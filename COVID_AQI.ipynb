{
 "cells": [
  {
   "cell_type": "code",
   "execution_count": 14,
   "metadata": {
    "collapsed": true
   },
   "outputs": [],
   "source": [
    "import pandas as pd\n",
    "import matplotlib as plt\n",
    "%matplotlib inline"
   ]
  },
  {
   "cell_type": "code",
   "execution_count": 16,
   "metadata": {},
   "outputs": [],
   "source": [
    "df = pd.read_csv('/Users/kaiwendai/Downloads/waqi-covid19-airqualitydata-2020.csv',header = 4)"
   ]
  },
  {
   "cell_type": "code",
   "execution_count": 17,
   "metadata": {},
   "outputs": [
    {
     "data": {
      "text/html": [
       "<div>\n",
       "<style scoped>\n",
       "    .dataframe tbody tr th:only-of-type {\n",
       "        vertical-align: middle;\n",
       "    }\n",
       "\n",
       "    .dataframe tbody tr th {\n",
       "        vertical-align: top;\n",
       "    }\n",
       "\n",
       "    .dataframe thead th {\n",
       "        text-align: right;\n",
       "    }\n",
       "</style>\n",
       "<table border=\"1\" class=\"dataframe\">\n",
       "  <thead>\n",
       "    <tr style=\"text-align: right;\">\n",
       "      <th></th>\n",
       "      <th>Date</th>\n",
       "      <th>Country</th>\n",
       "      <th>City</th>\n",
       "      <th>Specie</th>\n",
       "      <th>count</th>\n",
       "      <th>min</th>\n",
       "      <th>max</th>\n",
       "      <th>median</th>\n",
       "      <th>variance</th>\n",
       "    </tr>\n",
       "  </thead>\n",
       "  <tbody>\n",
       "    <tr>\n",
       "      <th>0</th>\n",
       "      <td>2020-10-09</td>\n",
       "      <td>KZ</td>\n",
       "      <td>Nur-Sultan</td>\n",
       "      <td>dew</td>\n",
       "      <td>22</td>\n",
       "      <td>-7.0</td>\n",
       "      <td>-3.0</td>\n",
       "      <td>-6.0</td>\n",
       "      <td>15.07</td>\n",
       "    </tr>\n",
       "    <tr>\n",
       "      <th>1</th>\n",
       "      <td>2020-10-13</td>\n",
       "      <td>KZ</td>\n",
       "      <td>Nur-Sultan</td>\n",
       "      <td>dew</td>\n",
       "      <td>23</td>\n",
       "      <td>-7.0</td>\n",
       "      <td>3.0</td>\n",
       "      <td>1.0</td>\n",
       "      <td>125.89</td>\n",
       "    </tr>\n",
       "    <tr>\n",
       "      <th>2</th>\n",
       "      <td>2020-11-12</td>\n",
       "      <td>KZ</td>\n",
       "      <td>Nur-Sultan</td>\n",
       "      <td>dew</td>\n",
       "      <td>20</td>\n",
       "      <td>-7.5</td>\n",
       "      <td>-4.0</td>\n",
       "      <td>-5.5</td>\n",
       "      <td>9.26</td>\n",
       "    </tr>\n",
       "    <tr>\n",
       "      <th>3</th>\n",
       "      <td>2020-11-19</td>\n",
       "      <td>KZ</td>\n",
       "      <td>Nur-Sultan</td>\n",
       "      <td>dew</td>\n",
       "      <td>22</td>\n",
       "      <td>-16.0</td>\n",
       "      <td>-11.0</td>\n",
       "      <td>-13.0</td>\n",
       "      <td>25.39</td>\n",
       "    </tr>\n",
       "    <tr>\n",
       "      <th>4</th>\n",
       "      <td>2020-03-24</td>\n",
       "      <td>KZ</td>\n",
       "      <td>Nur-Sultan</td>\n",
       "      <td>dew</td>\n",
       "      <td>23</td>\n",
       "      <td>-11.5</td>\n",
       "      <td>-6.0</td>\n",
       "      <td>-10.5</td>\n",
       "      <td>48.63</td>\n",
       "    </tr>\n",
       "    <tr>\n",
       "      <th>...</th>\n",
       "      <td>...</td>\n",
       "      <td>...</td>\n",
       "      <td>...</td>\n",
       "      <td>...</td>\n",
       "      <td>...</td>\n",
       "      <td>...</td>\n",
       "      <td>...</td>\n",
       "      <td>...</td>\n",
       "      <td>...</td>\n",
       "    </tr>\n",
       "    <tr>\n",
       "      <th>1957032</th>\n",
       "      <td>2020-05-24</td>\n",
       "      <td>SK</td>\n",
       "      <td>Bratislava</td>\n",
       "      <td>wind-speed</td>\n",
       "      <td>84</td>\n",
       "      <td>0.2</td>\n",
       "      <td>10.0</td>\n",
       "      <td>1.0</td>\n",
       "      <td>101.13</td>\n",
       "    </tr>\n",
       "    <tr>\n",
       "      <th>1957033</th>\n",
       "      <td>2020-06-11</td>\n",
       "      <td>SK</td>\n",
       "      <td>Bratislava</td>\n",
       "      <td>wind-speed</td>\n",
       "      <td>45</td>\n",
       "      <td>0.2</td>\n",
       "      <td>3.3</td>\n",
       "      <td>0.7</td>\n",
       "      <td>7.34</td>\n",
       "    </tr>\n",
       "    <tr>\n",
       "      <th>1957034</th>\n",
       "      <td>2020-07-05</td>\n",
       "      <td>SK</td>\n",
       "      <td>Bratislava</td>\n",
       "      <td>wind-speed</td>\n",
       "      <td>24</td>\n",
       "      <td>0.5</td>\n",
       "      <td>5.4</td>\n",
       "      <td>3.0</td>\n",
       "      <td>21.60</td>\n",
       "    </tr>\n",
       "    <tr>\n",
       "      <th>1957035</th>\n",
       "      <td>2020-10-27</td>\n",
       "      <td>SK</td>\n",
       "      <td>Bratislava</td>\n",
       "      <td>wind-speed</td>\n",
       "      <td>36</td>\n",
       "      <td>0.2</td>\n",
       "      <td>7.4</td>\n",
       "      <td>1.8</td>\n",
       "      <td>45.63</td>\n",
       "    </tr>\n",
       "    <tr>\n",
       "      <th>1957036</th>\n",
       "      <td>2020-04-29</td>\n",
       "      <td>SK</td>\n",
       "      <td>Bratislava</td>\n",
       "      <td>wind-speed</td>\n",
       "      <td>48</td>\n",
       "      <td>0.2</td>\n",
       "      <td>8.4</td>\n",
       "      <td>1.0</td>\n",
       "      <td>68.28</td>\n",
       "    </tr>\n",
       "  </tbody>\n",
       "</table>\n",
       "<p>1957037 rows × 9 columns</p>\n",
       "</div>"
      ],
      "text/plain": [
       "               Date Country        City      Specie  count   min   max  \\\n",
       "0        2020-10-09      KZ  Nur-Sultan         dew     22  -7.0  -3.0   \n",
       "1        2020-10-13      KZ  Nur-Sultan         dew     23  -7.0   3.0   \n",
       "2        2020-11-12      KZ  Nur-Sultan         dew     20  -7.5  -4.0   \n",
       "3        2020-11-19      KZ  Nur-Sultan         dew     22 -16.0 -11.0   \n",
       "4        2020-03-24      KZ  Nur-Sultan         dew     23 -11.5  -6.0   \n",
       "...             ...     ...         ...         ...    ...   ...   ...   \n",
       "1957032  2020-05-24      SK  Bratislava  wind-speed     84   0.2  10.0   \n",
       "1957033  2020-06-11      SK  Bratislava  wind-speed     45   0.2   3.3   \n",
       "1957034  2020-07-05      SK  Bratislava  wind-speed     24   0.5   5.4   \n",
       "1957035  2020-10-27      SK  Bratislava  wind-speed     36   0.2   7.4   \n",
       "1957036  2020-04-29      SK  Bratislava  wind-speed     48   0.2   8.4   \n",
       "\n",
       "         median  variance  \n",
       "0          -6.0     15.07  \n",
       "1           1.0    125.89  \n",
       "2          -5.5      9.26  \n",
       "3         -13.0     25.39  \n",
       "4         -10.5     48.63  \n",
       "...         ...       ...  \n",
       "1957032     1.0    101.13  \n",
       "1957033     0.7      7.34  \n",
       "1957034     3.0     21.60  \n",
       "1957035     1.8     45.63  \n",
       "1957036     1.0     68.28  \n",
       "\n",
       "[1957037 rows x 9 columns]"
      ]
     },
     "execution_count": 17,
     "metadata": {},
     "output_type": "execute_result"
    }
   ],
   "source": [
    "df"
   ]
  },
  {
   "cell_type": "code",
   "execution_count": 24,
   "metadata": {},
   "outputs": [
    {
     "data": {
      "text/plain": [
       "array(['KZ', 'ML', 'MY', 'PH', 'XK', 'CH', 'HK', 'IT', 'JO', 'KG', 'UG',\n",
       "       'VN', 'BA', 'CL', 'IE', 'IS', 'JP', 'SE', 'TM', 'ZA', 'BE', 'CR',\n",
       "       'ET', 'GB', 'PL', 'PT', 'DE', 'US', 'BD', 'CO', 'KR', 'MN', 'AU',\n",
       "       'GE', 'PR', 'BO', 'CI', 'CY', 'IL', 'IQ', 'MM', 'NZ', 'RU', 'AE',\n",
       "       'CN', 'EE', 'ES', 'LT', 'MX', 'TJ', 'UA', 'SV', 'TR', 'AF', 'BG',\n",
       "       'CA', 'CZ', 'IR', 'LA', 'PK', 'SA', 'DZ', 'FI', 'FR', 'HR', 'MK',\n",
       "       'NP', 'TW', 'UZ', 'IN', 'KW', 'BR', 'EC', 'GH', 'GN', 'GR', 'GT',\n",
       "       'NO', 'RS', 'LK', 'RE', 'AR', 'DK', 'ID', 'MO', 'PE', 'RO', 'AT',\n",
       "       'BH', 'TH', 'CW', 'HU', 'NL', 'SG', 'SK'], dtype=object)"
      ]
     },
     "execution_count": 24,
     "metadata": {},
     "output_type": "execute_result"
    }
   ],
   "source": [
    "df['Country'].unique()"
   ]
  },
  {
   "cell_type": "code",
   "execution_count": 18,
   "metadata": {
    "collapsed": true
   },
   "outputs": [],
   "source": [
    "cn = df[df['Country']=='CN']"
   ]
  },
  {
   "cell_type": "code",
   "execution_count": 25,
   "metadata": {},
   "outputs": [
    {
     "data": {
      "text/plain": [
       "array(['Beijing', 'Jieyang', 'Kunming', 'Hangzhou', 'Chongqing',\n",
       "       'Qingdao', 'Haikou', 'Ürümqi', 'Qiqihar', 'Guiyang', 'Shenzhen',\n",
       "       'Yunfu', 'Xuchang', 'Yinchuan', 'Shenyang', 'Lhasa', 'Shanghai',\n",
       "       'Changchun', 'Foshan', 'Nanning', 'Fushun', 'Hefei', 'Chengdu',\n",
       "       'Hohhot', 'Qinhuangdao', 'Shijiazhuang', 'Shantou', 'Zhengzhou',\n",
       "       'Nanjing', 'Xining', 'Xi’an', 'Zhuzhou', 'Wuhan', 'Tianjin',\n",
       "       'Changzhou', 'Nanchang', 'Shiyan', 'Xinxiang', 'Suzhou', 'Harbin',\n",
       "       'Lanzhou', 'Jinan', 'Changsha', 'Hegang', 'Anyang', 'Wuxi',\n",
       "       'Taiyuan', 'Guangzhou', 'Fuzhou', 'Ningbo', 'Xiamen', 'Dongguan'],\n",
       "      dtype=object)"
      ]
     },
     "execution_count": 25,
     "metadata": {},
     "output_type": "execute_result"
    }
   ],
   "source": [
    "cn['City'].unique()"
   ]
  },
  {
   "cell_type": "code",
   "execution_count": 19,
   "metadata": {
    "collapsed": true
   },
   "outputs": [],
   "source": [
    "sh = cn[cn['City']=='Shanghai']"
   ]
  },
  {
   "cell_type": "code",
   "execution_count": 20,
   "metadata": {},
   "outputs": [
    {
     "data": {
      "text/plain": [
       "array(['dew', 'temperature', 'wind-gust', 'no2', 'wind speed',\n",
       "       'wind gust', 'wind-speed', 'co', 'pm10', 'o3', 'so2', 'humidity',\n",
       "       'pm25', 'pressure'], dtype=object)"
      ]
     },
     "execution_count": 20,
     "metadata": {},
     "output_type": "execute_result"
    }
   ],
   "source": [
    "sh['Specie'].unique()"
   ]
  },
  {
   "cell_type": "code",
   "execution_count": 1,
   "metadata": {},
   "outputs": [
    {
     "ename": "NameError",
     "evalue": "name 'sh' is not defined",
     "output_type": "error",
     "traceback": [
      "\u001b[0;31m---------------------------------------------------------------------------\u001b[0m",
      "\u001b[0;31mNameError\u001b[0m                                 Traceback (most recent call last)",
      "\u001b[0;32m<ipython-input-1-6817220ce5b7>\u001b[0m in \u001b[0;36m<module>\u001b[0;34m()\u001b[0m\n\u001b[0;32m----> 1\u001b[0;31m \u001b[0msh\u001b[0m\u001b[0;34m.\u001b[0m\u001b[0mdisplay\u001b[0m\u001b[0;34m\u001b[0m\u001b[0m\n\u001b[0m",
      "\u001b[0;31mNameError\u001b[0m: name 'sh' is not defined"
     ]
    }
   ],
   "source": [
    "sh.display"
   ]
  },
  {
   "cell_type": "code",
   "execution_count": null,
   "metadata": {
    "collapsed": true
   },
   "outputs": [],
   "source": []
  }
 ],
 "metadata": {
  "kernelspec": {
   "display_name": "Python 3",
   "language": "python",
   "name": "python3"
  },
  "language_info": {
   "codemirror_mode": {
    "name": "ipython",
    "version": 3
   },
   "file_extension": ".py",
   "mimetype": "text/x-python",
   "name": "python",
   "nbconvert_exporter": "python",
   "pygments_lexer": "ipython3",
   "version": "3.6.3"
  }
 },
 "nbformat": 4,
 "nbformat_minor": 2
}
